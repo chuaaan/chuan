{
  "nbformat": 4,
  "nbformat_minor": 0,
  "metadata": {
    "colab": {
      "provenance": [],
      "authorship_tag": "ABX9TyPBtXTbnmbgPlQxliVtQPPT",
      "include_colab_link": true
    },
    "kernelspec": {
      "name": "python3",
      "display_name": "Python 3"
    },
    "language_info": {
      "name": "python"
    }
  },
  "cells": [
    {
      "cell_type": "markdown",
      "metadata": {
        "id": "view-in-github",
        "colab_type": "text"
      },
      "source": [
        "<a href=\"https://colab.research.google.com/github/chuaaan/chuan/blob/main/%E6%9C%9F%E6%9C%AB%E5%A0%B1%E5%91%8A.ipynb\" target=\"_parent\"><img src=\"https://colab.research.google.com/assets/colab-badge.svg\" alt=\"Open In Colab\"/></a>"
      ]
    },
    {
      "cell_type": "code",
      "source": [
        "import math\n",
        "\n",
        "class City:\n",
        "    def __init__(self, name, coordinates, accommodation_cost):\n",
        "        self.name = name\n",
        "        self.coordinates = coordinates\n",
        "        self.accommodation_cost = accommodation_cost\n",
        "\n",
        "    def calculate_discounted_cost(self, previous_city):\n",
        "        if previous_city and (previous_city.name == 'A' or previous_city.name == 'C'):\n",
        "            return self.accommodation_cost * 0.8\n",
        "        else:\n",
        "            return self.accommodation_cost\n",
        "\n",
        "def calculate_distance(city1, city2):\n",
        "    x1, y1 = city1.coordinates\n",
        "    x2, y2 = city2.coordinates\n",
        "    distance = math.sqrt((x2 - x1) ** 2 + (y2 - y1) ** 2)\n",
        "    return distance\n",
        "\n",
        "def find_cheapest_travel_plan(start_city, cities):\n",
        "    visited_cities = [start_city]\n",
        "    total_cost = 0.0\n",
        "\n",
        "    while len(visited_cities) < len(cities):\n",
        "        current_city = visited_cities[-1]\n",
        "        remaining_cities = [city for city in cities if city not in visited_cities]\n",
        "        min_cost = float('inf')\n",
        "        next_city = None\n",
        "\n",
        "        for city in remaining_cities:\n",
        "            distance = calculate_distance(current_city, city)\n",
        "            accommodation_cost = city.calculate_discounted_cost(current_city)\n",
        "            travel_cost = distance * 100 + accommodation_cost\n",
        "\n",
        "            if travel_cost < min_cost:\n",
        "                min_cost = travel_cost\n",
        "                next_city = city\n",
        "\n",
        "        visited_cities.append(next_city)\n",
        "        total_cost += min_cost\n",
        "\n",
        "    return visited_cities, total_cost\n",
        "\n",
        "# 建立城市座標\n",
        "city_A = City('A', (0, 0), 2000)\n",
        "city_B = City('B', (0, 120), 2400)\n",
        "city_C = City('C', (30, 100), 2400)\n",
        "city_D = City('D', (80, 0), 1600)\n",
        "city_E = City('E', (45, 10), 1500)\n",
        "city_F = City('F', (90, 160), 2200)\n",
        "city_G = City('G', (120, 200), 1200)\n",
        "\n",
        "# 建立城市列表\n",
        "cities = [city_A, city_B, city_C, city_D, city_E, city_F, city_G]\n",
        "\n",
        "# 選擇出發城市\n",
        "start_city = city_A\n",
        "\n",
        "# 找到最便宜的方案\n",
        "travel_plan, total_cost = find_cheapest_travel_plan(start_city, cities)\n",
        "\n",
        "# 輸出結果\n",
        "print(\"遊歷順序：\")\n",
        "for city in travel_plan:\n",
        "    print(city.name)\n",
        "print(\"總花費旅費：\", total_cost)\n"
      ],
      "metadata": {
        "colab": {
          "base_uri": "https://localhost:8080/"
        },
        "id": "y34GhVT1tkCj",
        "outputId": "77a41740-45d8-475f-bd2d-9942b91184c6"
      },
      "execution_count": null,
      "outputs": [
        {
          "output_type": "stream",
          "name": "stdout",
          "text": [
            "遊歷順序：\n",
            "A\n",
            "E\n",
            "D\n",
            "C\n",
            "B\n",
            "F\n",
            "G\n",
            "總花費旅費： 48404.57613804574\n"
          ]
        }
      ]
    }
  ]
}